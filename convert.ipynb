{
 "cells": [
  {
   "cell_type": "markdown",
   "metadata": {},
   "source": [
    "### 資料前處理，轉換資料格式(輸入格式)\n",
    "##### (1) 從比賽官網下載 Public 以及 Private 資料集並解壓縮至 input 資料夾中然後執行下行的程式"
   ]
  },
  {
   "cell_type": "code",
   "execution_count": 2,
   "metadata": {},
   "outputs": [],
   "source": [
    "import os\n",
    "import pandas as pd\n",
    "import numpy as np\n",
    "import shutil\n",
    "\n",
    "# 轉換 image 格式\n",
    "data_input = 'input'\n",
    "os.makedirs(data_input, exist_ok=True)\n",
    "for i in os.listdir(data_input):\n",
    "    new_name = i[:-4] + \"_im\" + \".jpg\"\n",
    "    shutil.move(os.path.join(data_input, i), os.path.join(data_input, new_name))\n"
   ]
  },
  {
   "cell_type": "markdown",
   "metadata": {},
   "source": [
    "##### (2) 將 Semask 輸出的 Mask 結果放入 input 資料夾中然後執行下行的程式"
   ]
  },
  {
   "cell_type": "code",
   "execution_count": 3,
   "metadata": {},
   "outputs": [],
   "source": [
    "# 轉換 Mask 格式\n",
    "for i in os.listdir(data_input):\n",
    "    new_name = i[-3:]\n",
    "    if i[-3:] == \"png\":\n",
    "        new_name = i[:-4] + \"_seg\" + \".png\"\n",
    "        shutil.move(os.path.join(data_input, i), os.path.join(data_input, new_name))"
   ]
  },
  {
   "cell_type": "code",
   "execution_count": null,
   "metadata": {},
   "outputs": [],
   "source": []
  }
 ],
 "metadata": {
  "interpreter": {
   "hash": "a4ad4e8445af0d8e9461639fbafd862e3c1d6400dcaab14fed5f934398dbc5c9"
  },
  "kernelspec": {
   "display_name": "Python 3.8.12 ('mspl')",
   "language": "python",
   "name": "python3"
  },
  "language_info": {
   "codemirror_mode": {
    "name": "ipython",
    "version": 3
   },
   "file_extension": ".py",
   "mimetype": "text/x-python",
   "name": "python",
   "nbconvert_exporter": "python",
   "pygments_lexer": "ipython3",
   "version": "3.8.12"
  },
  "orig_nbformat": 4
 },
 "nbformat": 4,
 "nbformat_minor": 2
}
